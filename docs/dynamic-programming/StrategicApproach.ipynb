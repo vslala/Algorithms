{
 "cells": [
  {
   "cell_type": "code",
   "execution_count": 2,
   "id": "ff55d75c",
   "metadata": {},
   "outputs": [],
   "source": [
    "# Before we start, \n",
    "#     we need to first define a term: state. \n",
    "#     In a DP problem, a state is a set of variables that can sufficiently describe a scenario. \n",
    "#     These variables are called state variables, and we only care about relevant ones. \n",
    "#     For example, to describe every scenario in Climbing Stairs, there is only 1 relevant state variable, \n",
    "#     the current step we are on. We can denote this with an integer i. If i = 6, \n",
    "#     that means that we are describing the state of being on the 6th step. \n",
    "#     Every unique value of i represents a unique state."
   ]
  },
  {
   "cell_type": "code",
   "execution_count": 3,
   "id": "9272fdb4",
   "metadata": {},
   "outputs": [],
   "source": [
    "# Framework for solving dynamic problems\n",
    "# 1. A function or data structure that will compute/contain the answer to the problem for every given state.\n",
    "# For Climbing Stairs, let's say we have an function dp where dp(i) returns the number of ways to climb to the i^{th} i th\n",
    "# step. Solving the original problem would be as easy as return dp(n).\n",
    "\n",
    "# 2. A recurrence relation to transition between states.\n",
    "\n",
    "# 3. Base cases, so that our recurrence relation doesn't go on infinitely.\n"
   ]
  },
  {
   "cell_type": "code",
   "execution_count": 9,
   "id": "01c8686c",
   "metadata": {},
   "outputs": [
    {
     "data": {
      "text/plain": [
       "8"
      ]
     },
     "execution_count": 9,
     "metadata": {},
     "output_type": "execute_result"
    }
   ],
   "source": [
    "# Climbing Stairs - Top Down Approach\n",
    "mem = {}\n",
    "def climbStairs(n: int) -> int:\n",
    "    # think of the state before designing the function parameters\n",
    "    # state is something that is required to calculate the result (or next state)\n",
    "    return dp(n)\n",
    "\n",
    "def dp(n: int) -> int:\n",
    "    if (n <= 2): \n",
    "        return n\n",
    "    \n",
    "    if n in mem:\n",
    "        return mem[n]\n",
    "    \n",
    "    mem[n] = dp(n - 1) + dp(n - 2)\n",
    "    return mem[n]\n",
    "\n",
    "climbStairs(5)\n",
    "    "
   ]
  },
  {
   "cell_type": "code",
   "execution_count": 18,
   "id": "3fa1a5b4",
   "metadata": {},
   "outputs": [
    {
     "data": {
      "text/plain": [
       "8"
      ]
     },
     "execution_count": 18,
     "metadata": {},
     "output_type": "execute_result"
    }
   ],
   "source": [
    "# Climbing Stairs - Bottom up approach\n",
    "def climbStairs(n: int) -> int:\n",
    "    # in bottom up approach we start with the base case instead of reaching to it\n",
    "    mem = [None] * (n + 1)\n",
    "    mem[1] = 1\n",
    "    mem[2] = 2\n",
    "    for i in range(3, n + 1):\n",
    "        mem[i] = mem[i - 1] + mem[i - 2]\n",
    "    \n",
    "    return mem[n]\n",
    "    \n",
    "climbStairs(5)"
   ]
  },
  {
   "cell_type": "code",
   "execution_count": 31,
   "id": "9dbc2188",
   "metadata": {},
   "outputs": [
    {
     "data": {
      "text/plain": [
       "12"
      ]
     },
     "execution_count": 31,
     "metadata": {},
     "output_type": "execute_result"
    }
   ],
   "source": [
    "# 198. House Robber\n",
    "# A recurrence relation to transition between states\n",
    "\n",
    "# For this part, let's assume we are using a top-down (recursive function) approach. \n",
    "# Note that the top-down approach is closer to our natural way of thinking and it is generally easier to think of the recurrence relation if we start with a top-down approach.\n",
    "\n",
    "# Next, we need to find a recurrence relation, which is typically the hardest part of the problem. \n",
    "# For any recurrence relation, a good place to start is to think about a general state (in this case, let's say we're at the house at index i), \n",
    "# and use information from the problem description to think about how other states relate to the current one.\n",
    "\n",
    "# If we are at some house, logically, \n",
    "# we have 2 options: we can choose to rob this house, or we can choose to not rob this house.\n",
    "\n",
    "# If we decide not to rob the house, then we don't gain any money. Whatever money we had from the previous house is how much money we will have at this house - which is dp(i - 1).\n",
    "\n",
    "# If we decide to rob the house, then we gain nums[i] money. However, this is only possible if we did not rob the previous house. \n",
    "# This means the money we had when arriving at this house is the money we had from the previous house without robbing it, \n",
    "# which would be however much money we had 2 houses ago, dp(i - 2). \n",
    "# After robbing the current house, we will have ​dp(i - 2) + nums[i] money.\n",
    "\n",
    "# From these two options, we always want to pick the one that gives us maximum profits. Putting it together, we have our recurrence relation: dp(i) = max(dp(i - 1), dp(i - 2) + nums[i]).\n",
    "\n",
    "mem = {}\n",
    "def rob(nums):\n",
    "    def dp(i: int):\n",
    "        if i == 0:\n",
    "            return nums[0]\n",
    "        elif i == 1:\n",
    "            return max(nums[0], nums[1])\n",
    "        \n",
    "        if i in mem:\n",
    "            return mem[i]\n",
    "        # if we rob the house, that means the last house is not robbed and the amount will same that we had house previous to the last house\n",
    "        mem[i] = max(dp(i - 1), dp(i - 2) + nums[i])\n",
    "        return mem[i]\n",
    "    \n",
    "    return dp(len(nums) - 1)\n",
    "\n",
    "    \n",
    "\n",
    "rob(input)\n"
   ]
  },
  {
   "cell_type": "code",
   "execution_count": 38,
   "id": "ac49f310",
   "metadata": {},
   "outputs": [
    {
     "data": {
      "text/plain": [
       "12"
      ]
     },
     "execution_count": 38,
     "metadata": {},
     "output_type": "execute_result"
    }
   ],
   "source": [
    "# House Robber - Bottom up approach\n",
    "mem = {}\n",
    "def rob(nums):\n",
    "    size = len(nums)\n",
    "    if size == 1:\n",
    "        return nums[0]\n",
    "    \n",
    "    mem[0] = nums[0]\n",
    "    mem[1] = max(nums[0], nums[1])\n",
    "    \n",
    "    for i in range(2, size):\n",
    "        mem[i] = max(mem[i - 1], mem[i - 2] + nums[i])\n",
    "    \n",
    "    return mem[size - 1]\n",
    "\n",
    "input = [2,7,9,3,1]\n",
    "rob(input)"
   ]
  },
  {
   "cell_type": "code",
   "execution_count": 42,
   "id": "1dc91503",
   "metadata": {},
   "outputs": [
    {
     "data": {
      "text/plain": [
       "6"
      ]
     },
     "execution_count": 42,
     "metadata": {},
     "output_type": "execute_result"
    }
   ],
   "source": [
    "# 746. Min Cost Climbing Stairs\n",
    "cost1 = [10, 15, 20] # 15\n",
    "cost2 = [1,100,1,1,1,100,1,1,100,1] # 6\n",
    "cost = cost2\n",
    "\n",
    "def min_cost_to_reach_top(cost):\n",
    "    minimum_cost = {\n",
    "        0: 0,\n",
    "        1: 0\n",
    "    }\n",
    "    \n",
    "    def recurrence(curr_step):\n",
    "        if (curr_step < 2):\n",
    "            return 0\n",
    "        \n",
    "        if curr_step in minimum_cost:\n",
    "            return minimum_cost[curr_step]\n",
    "        \n",
    "        # recurrence relation\n",
    "        # n = Math.min(cost[n - 2] + minimumCost[n - 2], cost[n - 1] + minimumCost[n - 1])\n",
    "        one_step = cost[curr_step - 1] + recurrence(curr_step - 1)\n",
    "        two_step = cost[curr_step - 2] + recurrence(curr_step - 2)\n",
    "        minimum_cost[curr_step] = min(one_step, two_step)\n",
    "        \n",
    "        return minimum_cost[curr_step]\n",
    "    \n",
    "    return recurrence(len(cost))\n",
    "\n",
    "min_cost_to_reach_top(cost)"
   ]
  },
  {
   "cell_type": "code",
   "execution_count": null,
   "id": "9d88d743",
   "metadata": {},
   "outputs": [],
   "source": []
  }
 ],
 "metadata": {
  "kernelspec": {
   "display_name": "Python 3 (ipykernel)",
   "language": "python",
   "name": "python3"
  },
  "language_info": {
   "codemirror_mode": {
    "name": "ipython",
    "version": 3
   },
   "file_extension": ".py",
   "mimetype": "text/x-python",
   "name": "python",
   "nbconvert_exporter": "python",
   "pygments_lexer": "ipython3",
   "version": "3.9.7"
  }
 },
 "nbformat": 4,
 "nbformat_minor": 5
}
